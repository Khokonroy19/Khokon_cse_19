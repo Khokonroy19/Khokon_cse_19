{
 "cells": [
  {
   "cell_type": "markdown",
   "id": "human-denver",
   "metadata": {},
   "source": [
    "<h1>About Data Types</h1>"
   ]
  },
  {
   "cell_type": "markdown",
   "id": "fundamental-interval",
   "metadata": {},
   "source": [
    "<b>1 What is Data type?"
   ]
  },
  {
   "cell_type": "markdown",
   "id": "communist-yukon",
   "metadata": {},
   "source": [
    "<p>Data types are the classification or categorization of data items. It represents the kind of value that tells what operations can be performed on a particular data. Since everything is an object in Python programming, data types are actually classes and variables are instance (object) of these classes."
   ]
  },
  {
   "cell_type": "markdown",
   "id": "prerequisite-wrong",
   "metadata": {},
   "source": [
    "<b>2 Describe all the datatype with example"
   ]
  },
  {
   "cell_type": "markdown",
   "id": "incorporate-masters",
   "metadata": {},
   "source": [
    "1.Numeric Types: int x=5 , float y=8.9999 , complex a=4+3j   2.Sequence Types: list=[1,2,3,4] , tuple =(4,5,6,7,8)        3.Mapping Type: dict={1:\"ayon\",2:\"khokon\"}    4.Set Types: set={11,22,44,55}     5.Boolean Type:bool=True,False "
   ]
  },
  {
   "cell_type": "markdown",
   "id": "grateful-leisure",
   "metadata": {},
   "source": [
    "<h1>Input and output"
   ]
  },
  {
   "cell_type": "code",
   "execution_count": 3,
   "id": "unsigned-words",
   "metadata": {},
   "outputs": [
    {
     "name": "stdout",
     "output_type": "stream",
     "text": [
      "ayonkhokon\n"
     ]
    }
   ],
   "source": [
    "print(\"ayon\",\"khokon\",sep='')"
   ]
  },
  {
   "cell_type": "code",
   "execution_count": 5,
   "id": "negative-lawsuit",
   "metadata": {},
   "outputs": [
    {
     "name": "stdout",
     "output_type": "stream",
     "text": [
      "ayon khokon\n"
     ]
    }
   ],
   "source": [
    "print(\"ayon\",\"khokon\",end='\\n')"
   ]
  },
  {
   "cell_type": "markdown",
   "id": "medieval-angola",
   "metadata": {},
   "source": [
    "When we need space we use end='\\n'and when we dont need any space we use sep=' '"
   ]
  },
  {
   "cell_type": "markdown",
   "id": "junior-teacher",
   "metadata": {},
   "source": [
    "<h1>Operator\n",
    "    "
   ]
  },
  {
   "cell_type": "markdown",
   "id": "double-discipline",
   "metadata": {},
   "source": [
    "<b>What is python operator?Describe atleast three type of operator"
   ]
  },
  {
   "cell_type": "markdown",
   "id": "continuous-boost",
   "metadata": {},
   "source": [
    "<p>Python operator is a symbol that performs an operation on one or more operands. An operand is a variable or a value on which we perform the operation. There are 7 catagories Operator in python.Now descrbie 3 type of Operator."
   ]
  },
  {
   "cell_type": "markdown",
   "id": "acting-scientist",
   "metadata": {},
   "source": [
    "1.Arithmetic Operator:(+ addition,- subtraction,* multiplication)\n",
    "2.Logical operator:(and,or)\n",
    "3.Relational Operator:(greater than(>),Less than(<))"
   ]
  },
  {
   "cell_type": "markdown",
   "id": "superior-graham",
   "metadata": {},
   "source": [
    "<h1>Problem 1"
   ]
  },
  {
   "cell_type": "code",
   "execution_count": 6,
   "id": "incorporated-procurement",
   "metadata": {},
   "outputs": [
    {
     "name": "stdout",
     "output_type": "stream",
     "text": [
      "3\n"
     ]
    }
   ],
   "source": [
    "list=[1,2,3,4,5,6,7]\n",
    "print(list[2])"
   ]
  },
  {
   "cell_type": "markdown",
   "id": "reported-vessel",
   "metadata": {},
   "source": [
    "<h1>Problem 2"
   ]
  },
  {
   "cell_type": "code",
   "execution_count": 9,
   "id": "entire-efficiency",
   "metadata": {},
   "outputs": [
    {
     "name": "stdout",
     "output_type": "stream",
     "text": [
      "enter input one:3\n",
      "enter input two:5\n",
      "sum of the numbers=  8\n",
      "difference of the numbers=  -2\n",
      "product of the numbers=  15\n"
     ]
    }
   ],
   "source": [
    "a=int(input(\"enter input one:\"))\n",
    "b=int(input(\"enter input two:\"))\n",
    "print(\"sum of the numbers= \", a+b)\n",
    "print(\"difference of the numbers= \", a-b)\n",
    "print(\"product of the numbers= \", a*b)"
   ]
  },
  {
   "cell_type": "markdown",
   "id": "surface-phenomenon",
   "metadata": {},
   "source": [
    "<h1>Problem 3"
   ]
  },
  {
   "cell_type": "code",
   "execution_count": 11,
   "id": "acoustic-antenna",
   "metadata": {},
   "outputs": [
    {
     "name": "stdout",
     "output_type": "stream",
     "text": [
      "enter first input:3\n",
      "enter second input:5\n",
      "0\n",
      "0.6\n"
     ]
    }
   ],
   "source": [
    "x=int(input(\"enter first input:\"))\n",
    "y=int(input(\"enter second input:\"))\n",
    "r=int(x/y)\n",
    "c=float(x/y)\n",
    "print(r)\n",
    "print(c)"
   ]
  },
  {
   "cell_type": "markdown",
   "id": "median-spank",
   "metadata": {},
   "source": [
    "<h1>Problem 4"
   ]
  },
  {
   "cell_type": "code",
   "execution_count": 12,
   "id": "automated-honduras",
   "metadata": {},
   "outputs": [
    {
     "name": "stdout",
     "output_type": "stream",
     "text": [
      "red\n",
      "black\n"
     ]
    }
   ],
   "source": [
    "list=[\"red\",\"green\",\"white\",\"black\"]\n",
    "print(list[0])\n",
    "print(list[3])"
   ]
  },
  {
   "cell_type": "markdown",
   "id": "powered-richards",
   "metadata": {},
   "source": [
    "<h1>Problem 5"
   ]
  },
  {
   "cell_type": "code",
   "execution_count": 26,
   "id": "transparent-carry",
   "metadata": {},
   "outputs": [
    {
     "name": "stdout",
     "output_type": "stream",
     "text": [
      "a string you don't have to escape\n",
      "           This\n",
      "     is a......... multiline\n",
      "heredoc string --------> example\n"
     ]
    }
   ],
   "source": [
    "print(\"a string you don't have to escape\",\"           This\", \"     is a......... multiline\",\"heredoc string --------> example\",sep=\"\\n\")"
   ]
  },
  {
   "cell_type": "markdown",
   "id": "abroad-toilet",
   "metadata": {},
   "source": [
    "<h1>Problem 6"
   ]
  },
  {
   "cell_type": "code",
   "execution_count": 27,
   "id": "checked-romania",
   "metadata": {},
   "outputs": [
    {
     "name": "stdout",
     "output_type": "stream",
     "text": [
      "enter base:5\n",
      "enter height:2\n",
      "area=  5.0\n"
     ]
    }
   ],
   "source": [
    "a=int(input(\"enter base:\"))\n",
    "b=int(input(\"enter height:\"))\n",
    "c=0.5*a*b;\n",
    "print(\"area= \",c)"
   ]
  },
  {
   "cell_type": "markdown",
   "id": "arctic-globe",
   "metadata": {},
   "source": [
    "<h1>Problem 7"
   ]
  },
  {
   "cell_type": "code",
   "execution_count": 29,
   "id": "widespread-immunology",
   "metadata": {},
   "outputs": [
    {
     "name": "stdout",
     "output_type": "stream",
     "text": [
      "Name:Khokon roy\n",
      "Age:21\n",
      "Address:Dinajpur\n"
     ]
    }
   ],
   "source": [
    "print(\"Name:Khokon roy\",\"Age:21\",\"Address:Dinajpur\",sep=\"\\n\")"
   ]
  },
  {
   "cell_type": "markdown",
   "id": "perceived-progressive",
   "metadata": {},
   "source": [
    "<h1>Problem 8"
   ]
  },
  {
   "cell_type": "markdown",
   "id": "superb-melbourne",
   "metadata": {},
   "source": [
    "<b> Here A=P(1+R/100)T"
   ]
  },
  {
   "cell_type": "code",
   "execution_count": 41,
   "id": "moving-specification",
   "metadata": {},
   "outputs": [
    {
     "name": "stdout",
     "output_type": "stream",
     "text": [
      "enter input P:4\n",
      "enter input R:5\n",
      "enter input T:6\n",
      "A = 25.20\n"
     ]
    }
   ],
   "source": [
    "P=int(input(\"enter input P:\"))\n",
    "R=int(input(\"enter input R:\"))\n",
    "T=int(input(\"enter input T:\"))\n",
    "c=R/100\n",
    "A=P*(1+c)*T\n",
    "print(\"A = %.2f\" %A)\n"
   ]
  },
  {
   "cell_type": "markdown",
   "id": "following-thriller",
   "metadata": {},
   "source": [
    "<b> Compound Interest X =A-P"
   ]
  },
  {
   "cell_type": "code",
   "execution_count": 43,
   "id": "existing-needle",
   "metadata": {},
   "outputs": [
    {
     "name": "stdout",
     "output_type": "stream",
     "text": [
      "X= 21.20\n"
     ]
    }
   ],
   "source": [
    "X=A-P\n",
    "print(\"X= %.2f\" %X)"
   ]
  },
  {
   "cell_type": "markdown",
   "id": "quality-observer",
   "metadata": {},
   "source": [
    "<h1>Problem 9"
   ]
  },
  {
   "cell_type": "code",
   "execution_count": 3,
   "id": "interested-orleans",
   "metadata": {},
   "outputs": [
    {
     "name": "stdout",
     "output_type": "stream",
     "text": [
      "*****\n",
      "****\n",
      "***\n",
      "**\n",
      "*\n"
     ]
    }
   ],
   "source": [
    "print(\"*****\",\"****\",\"***\",\"**\",\"*\",sep='\\n')"
   ]
  },
  {
   "cell_type": "code",
   "execution_count": null,
   "id": "afraid-riding",
   "metadata": {},
   "outputs": [],
   "source": [
    " "
   ]
  }
 ],
 "metadata": {
  "kernelspec": {
   "display_name": "Python 3",
   "language": "python",
   "name": "python3"
  },
  "language_info": {
   "codemirror_mode": {
    "name": "ipython",
    "version": 3
   },
   "file_extension": ".py",
   "mimetype": "text/x-python",
   "name": "python",
   "nbconvert_exporter": "python",
   "pygments_lexer": "ipython3",
   "version": "3.9.2"
  }
 },
 "nbformat": 4,
 "nbformat_minor": 5
}
